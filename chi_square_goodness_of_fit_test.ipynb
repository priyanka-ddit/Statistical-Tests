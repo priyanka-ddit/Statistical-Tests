{
 "cells": [
  {
   "cell_type": "markdown",
   "id": "b240ddbb",
   "metadata": {},
   "source": [
    "# Chi Square Test For Goodness Of Fit"
   ]
  },
  {
   "cell_type": "markdown",
   "id": "85c509c9",
   "metadata": {},
   "source": [
    "### Perform Chi sqare test to check category distribution of sample data by taking different  distributions."
   ]
  },
  {
   "cell_type": "markdown",
   "id": "4f8b0370",
   "metadata": {},
   "source": [
    "#### Author: Priyanka Dave"
   ]
  },
  {
   "cell_type": "code",
   "execution_count": 1,
   "id": "0fae2a4d",
   "metadata": {},
   "outputs": [],
   "source": [
    "import pandas as pd\n",
    "import matplotlib.pyplot as plt"
   ]
  },
  {
   "cell_type": "code",
   "execution_count": 2,
   "id": "f6ac2924",
   "metadata": {},
   "outputs": [],
   "source": [
    "df = pd.read_csv('Data/traffic_violaions.csv', usecols=['driver_gender','driver_age'])"
   ]
  },
  {
   "cell_type": "code",
   "execution_count": 3,
   "id": "1ae5c255",
   "metadata": {},
   "outputs": [
    {
     "data": {
      "text/html": [
       "<div>\n",
       "<style scoped>\n",
       "    .dataframe tbody tr th:only-of-type {\n",
       "        vertical-align: middle;\n",
       "    }\n",
       "\n",
       "    .dataframe tbody tr th {\n",
       "        vertical-align: top;\n",
       "    }\n",
       "\n",
       "    .dataframe thead th {\n",
       "        text-align: right;\n",
       "    }\n",
       "</style>\n",
       "<table border=\"1\" class=\"dataframe\">\n",
       "  <thead>\n",
       "    <tr style=\"text-align: right;\">\n",
       "      <th></th>\n",
       "      <th>driver_gender</th>\n",
       "      <th>driver_age</th>\n",
       "    </tr>\n",
       "  </thead>\n",
       "  <tbody>\n",
       "    <tr>\n",
       "      <th>0</th>\n",
       "      <td>M</td>\n",
       "      <td>20.0</td>\n",
       "    </tr>\n",
       "    <tr>\n",
       "      <th>1</th>\n",
       "      <td>M</td>\n",
       "      <td>40.0</td>\n",
       "    </tr>\n",
       "    <tr>\n",
       "      <th>2</th>\n",
       "      <td>M</td>\n",
       "      <td>33.0</td>\n",
       "    </tr>\n",
       "  </tbody>\n",
       "</table>\n",
       "</div>"
      ],
      "text/plain": [
       "  driver_gender  driver_age\n",
       "0             M        20.0\n",
       "1             M        40.0\n",
       "2             M        33.0"
      ]
     },
     "execution_count": 3,
     "metadata": {},
     "output_type": "execute_result"
    }
   ],
   "source": [
    "df.head(3)"
   ]
  },
  {
   "cell_type": "code",
   "execution_count": 4,
   "id": "68371e13",
   "metadata": {},
   "outputs": [],
   "source": [
    "df['driver_gender'].dropna(inplace=True)"
   ]
  },
  {
   "cell_type": "markdown",
   "id": "f3f32d24",
   "metadata": {},
   "source": [
    "# Observation:"
   ]
  },
  {
   "cell_type": "markdown",
   "id": "67beb323",
   "metadata": {},
   "source": [
    "- Observations says that **13016 Female** and **36564 Male** drivers are violating traffic rules.\n",
    "- In other words below bar plot says that around **27% Female** drivers and **73% Male** drivers are violating traffic rules."
   ]
  },
  {
   "cell_type": "code",
   "execution_count": 5,
   "id": "6f389bfb",
   "metadata": {},
   "outputs": [
    {
     "data": {
      "text/plain": [
       "M    36564\n",
       "F    13016\n",
       "Name: driver_gender, dtype: int64"
      ]
     },
     "execution_count": 5,
     "metadata": {},
     "output_type": "execute_result"
    }
   ],
   "source": [
    "df['driver_gender'].value_counts()"
   ]
  },
  {
   "cell_type": "code",
   "execution_count": 6,
   "id": "a36527c3",
   "metadata": {},
   "outputs": [
    {
     "data": {
      "text/plain": [
       "Text(0, 0.5, 'Proportion')"
      ]
     },
     "execution_count": 6,
     "metadata": {},
     "output_type": "execute_result"
    },
    {
     "data": {
      "image/png": "[encoded data removed]",
      "text/plain": [
       "<Figure size 432x288 with 1 Axes>"
      ]
     },
     "metadata": {
      "needs_background": "light"
     },
     "output_type": "display_data"
    }
   ],
   "source": [
    "df['driver_gender'].value_counts(normalize=True).plot(kind='bar')\n",
    "plt.xlabel(\"Driver Gender\", fontsize=16)\n",
    "plt.ylabel(\"Proportion\", fontsize=16)"
   ]
  },
  {
   "cell_type": "markdown",
   "id": "ca1aa552",
   "metadata": {},
   "source": [
    "# Theory-1: Female  and  Male drivers both are equally violating traffic rules."
   ]
  },
  {
   "cell_type": "markdown",
   "id": "b1320419",
   "metadata": {},
   "source": [
    "- Let's define null and alternative hypothesis.\n",
    "- Here,\n",
    "    - **Null hypothesis (H0):** Female and Male drivers are equally violating traffic rules.\n",
    "    - **Alternative hypothesis (HA):** Female and Male drivers are \"NOT\" equally violating traffic rules.  \n",
    "\n"
   ]
  },
  {
   "cell_type": "markdown",
   "id": "b05c92ca",
   "metadata": {},
   "source": [
    "# Expectation-1:"
   ]
  },
  {
   "cell_type": "markdown",
   "id": "f8f773cc",
   "metadata": {},
   "source": [
    "- **50% Female** drivers and **50% Male** drivers are violating traffic rules.\n",
    "- **Expected female drivers** = 50% of Total records = 0.5 * (36564+13016) = 24790 \n",
    "- **Expected male drivers** = Total records - Expected female drivers = (36564+13016) - 24790 = 24790"
   ]
  },
  {
   "cell_type": "markdown",
   "id": "45739150",
   "metadata": {},
   "source": [
    "|  | Observed | Expected |\n",
    "| --- | --- | --- |\n",
    "| **Female Drivers** | 13016 | 24790 |\n",
    "| **Male Drivers** | 36564 | 24790 |\n",
    "| **Total** | 49580 | 49580 |"
   ]
  },
  {
   "cell_type": "markdown",
   "id": "c76f8ae7",
   "metadata": {},
   "source": [
    "Now, the question is how far expected values are from the observed values? If that gap is huge then we can say that obove theory is wrong."
   ]
  },
  {
   "cell_type": "markdown",
   "id": "c2fa9bb7",
   "metadata": {},
   "source": [
    "# Calculate chi-square (Theory-1):"
   ]
  },
  {
   "cell_type": "markdown",
   "id": "ffab959b",
   "metadata": {},
   "source": [
    "Let's take:\n",
    "\n",
    "- Level of significance = 5% (this value we will use to measure gap between observed and expected values)\n",
    "- Degrees of freedom = 1 (number of categories - 1)\n",
    "\n",
    "**Formula:** $ \\chi^2 = \\sum \\frac{(Observed-Expected)^2} {Expected} $ \n",
    "\n",
    "- Check chi square probability chart here https://people.richland.edu/james/lecture/m170/tbl-chi.html and match **column value=0.05 (5%)** and **row = 1 (DF)** where you will find **3.84**\n",
    "\n",
    "- If **$ \\chi^2 $ > 3.84**, reject the null hypothesis and accept the alternative hypothesis. In other words we can say that above theory is wrong if **$ \\chi^2 $ > 3.84**"
   ]
  },
  {
   "cell_type": "markdown",
   "id": "92dba034",
   "metadata": {},
   "source": [
    "|  | Calculated | \n",
    "| --- | --- |\n",
    "| **Female Drivers** | (13016 - 24790)$^2$/24790 = 5592.05 | \n",
    "| **Male Drivers** | (36564 - 24790)$^2$/24790 = 5592.05 |\n",
    "| **Total ($ \\chi^2 $)** | 11184.1 |"
   ]
  },
  {
   "cell_type": "markdown",
   "id": "41b06302",
   "metadata": {},
   "source": [
    "# Conclusion-1:"
   ]
  },
  {
   "cell_type": "markdown",
   "id": "4502c0cc",
   "metadata": {},
   "source": [
    "#### As $ \\chi^2 $ > 3.84, reject the null hypothesis and accept that female and male drivers are not equally violating traffic rules.\n",
    "#### Even if we compare with the initial distribution showing below, it says that around 25% Female drivers are violating traffic rules not 50%."
   ]
  },
  {
   "cell_type": "code",
   "execution_count": 7,
   "id": "cffada0d",
   "metadata": {},
   "outputs": [
    {
     "data": {
      "text/plain": [
       "Text(0, 0.5, 'Proportion')"
      ]
     },
     "execution_count": 7,
     "metadata": {},
     "output_type": "execute_result"
    },
    {
     "data": {
      "image/png": "[encoded data removed]",
      "text/plain": [
       "<Figure size 432x288 with 1 Axes>"
      ]
     },
     "metadata": {
      "needs_background": "light"
     },
     "output_type": "display_data"
    }
   ],
   "source": [
    "df['driver_gender'].value_counts(normalize=True).plot(kind='bar')\n",
    "plt.xlabel(\"Driver Gender\", fontsize=16)\n",
    "plt.ylabel(\"Proportion\", fontsize=16)"
   ]
  },
  {
   "cell_type": "markdown",
   "id": "74180be1",
   "metadata": {},
   "source": [
    "# Theory-2: \"74% Male drivers are violating traffic rules\""
   ]
  },
  {
   "cell_type": "markdown",
   "id": "c78a5e25",
   "metadata": {},
   "source": [
    "- Let's define null and alternative hypothesis.\n",
    "- Here,\n",
    "    - **Null hypothesis (H0):** 74% Male drivers are violating traffic rules.\n",
    "    - **Alternative hypothesis (HA):** 74% Male drivers are \"NOT\" violating traffic rules."
   ]
  },
  {
   "cell_type": "markdown",
   "id": "25193d71",
   "metadata": {},
   "source": [
    "# Expectation-2:"
   ]
  },
  {
   "cell_type": "markdown",
   "id": "8ed1ce4b",
   "metadata": {},
   "source": [
    "- **26% Female** drivers and **74% Male** drivers are violating traffic rules.\n",
    "\n",
    "- **Expected female drivers** = 26% of Total records = 0.26 * (36564+13016) = 12890.8 \n",
    "- **Expected male drivers** = Total records - Expected female drivers =  (36564+13016) - 12890.8 = 36689.2"
   ]
  },
  {
   "cell_type": "markdown",
   "id": "cf0b5025",
   "metadata": {},
   "source": [
    "|  | Observed | Expected |\n",
    "| --- | --- | --- |\n",
    "| **Female Drivers** | 13016 | 12890.8 |\n",
    "| **Male Drivers** | 36564 | 36689.2 |\n",
    "| **Total** | 49580 | 49580 |"
   ]
  },
  {
   "cell_type": "markdown",
   "id": "064b1995",
   "metadata": {},
   "source": [
    "Now again the question is how far expected values are from the observed values?  If that gap is huge then we can say that obove theory is wrong.\n"
   ]
  },
  {
   "cell_type": "markdown",
   "id": "fa4d717b",
   "metadata": {},
   "source": [
    "# Calculate chi-square (Theory-2):"
   ]
  },
  {
   "cell_type": "markdown",
   "id": "fdf06b1c",
   "metadata": {},
   "source": [
    "Let's take:\n",
    "\n",
    "- Level of significance = 5% (this value we will use to measure gap between observed and expected values)\n",
    "- Degrees of freedom = 1 (number of categories - 1)\n",
    "\n",
    "**Formula:** $ \\chi^2 = \\sum \\frac{(Observed-Expected)^2} {Expected} $ \n",
    "\n",
    "- Check chi square probability chart here https://people.richland.edu/james/lecture/m170/tbl-chi.html and match **column value=0.05 (5%)** and **row = 1 (DF)** where you will find **3.84**\n",
    "\n",
    "- If **$ \\chi^2 $ > 3.84**, reject the null hypothesis and accept the alternative hypothesis. In other words we can say that above theory is wrong if **$ \\chi^2 $ > 3.84**"
   ]
  },
  {
   "cell_type": "markdown",
   "id": "23bf4c1f",
   "metadata": {},
   "source": [
    "|  | Calculated | \n",
    "| --- | --- |\n",
    "| **Female Drivers** | (13016 - 12890.8)$^2$/12890.8 = 1.21 | \n",
    "| **Male Drivers** | (36564 - 36689.2)$^2$/36689.2 = 0.42 |\n",
    "| **Total ($ \\chi^2 $)** | 1.63 |"
   ]
  },
  {
   "cell_type": "markdown",
   "id": "ee21d899",
   "metadata": {},
   "source": [
    "# Conclusion-2:"
   ]
  },
  {
   "cell_type": "markdown",
   "id": "f8392afe",
   "metadata": {},
   "source": [
    "#### As $ \\chi^2 $ < 3.84, we failed to reject the null hypothesis. So we accept that 74% Male drivers are violating traffic rules.\n",
    "#### Even if we compare with the initial distribution showing below, it says more than 70% Male drivers are violating traffic rules."
   ]
  },
  {
   "cell_type": "code",
   "execution_count": 8,
   "id": "56d3a9d9",
   "metadata": {},
   "outputs": [
    {
     "data": {
      "text/plain": [
       "Text(0, 0.5, 'Proportion')"
      ]
     },
     "execution_count": 8,
     "metadata": {},
     "output_type": "execute_result"
    },
    {
     "data": {
      "image/png": "[encoded data removed]",
      "text/plain": [
       "<Figure size 432x288 with 1 Axes>"
      ]
     },
     "metadata": {
      "needs_background": "light"
     },
     "output_type": "display_data"
    }
   ],
   "source": [
    "df['driver_gender'].value_counts(normalize=True).plot(kind='bar')\n",
    "plt.xlabel(\"Driver Gender\", fontsize=16)\n",
    "plt.ylabel(\"Proportion\", fontsize=16)"
   ]
  },
  {
   "cell_type": "markdown",
   "id": "e94ed8a4",
   "metadata": {},
   "source": [
    "### Note:\n",
    "\n",
    "- More you increase the **level of significance** it will expect lesser gap between observed and expected values.\n",
    "\n",
    "- If you will set **100% level of significance**, then it will expect that observed and expected values must be same. "
   ]
  },
  {
   "cell_type": "markdown",
   "id": "4f88fa1a",
   "metadata": {},
   "source": [
    "###                                                                                     Thank you."
   ]
  }
 ],
 "metadata": {
  "kernelspec": {
   "display_name": "env",
   "language": "python",
   "name": "env"
  },
  "language_info": {
   "codemirror_mode": {
    "name": "ipython",
    "version": 3
   },
   "file_extension": ".py",
   "mimetype": "text/x-python",
   "name": "python",
   "nbconvert_exporter": "python",
   "pygments_lexer": "ipython3",
   "version": "3.10.1"
  }
 },
 "nbformat": 4,
 "nbformat_minor": 5
}
